{
 "cells": [
  {
   "cell_type": "code",
   "execution_count": 1,
   "metadata": {},
   "outputs": [],
   "source": [
    "import numpy as np\n",
    "import pandas as pd\n",
    "from matplotlib import pyplot as plt\n",
    "import seaborn as sns\n",
    "from sklearn.model_selection import train_test_split\n",
    "from sklearn.ensemble import RandomForestRegressor\n",
    "from sklearn.preprocessing import OneHotEncoder\n",
    "from sklearn.preprocessing import LabelEncoder\n",
    "from sklearn.preprocessing import StandardScaler\n",
    "from sklearn.decomposition import PCA\n",
    "from sklearn.metrics import r2_score\n",
    "from scipy import stats\n",
    "from sklearn import linear_model\n",
    "from sklearn.tree import export_graphviz\n",
    "import pydot\n",
    "\n",
    "import warnings\n",
    "warnings.filterwarnings(\"ignore\")"
   ]
  },
  {
   "cell_type": "code",
   "execution_count": 2,
   "metadata": {},
   "outputs": [
    {
     "data": {
      "text/html": [
       "<div>\n",
       "<style scoped>\n",
       "    .dataframe tbody tr th:only-of-type {\n",
       "        vertical-align: middle;\n",
       "    }\n",
       "\n",
       "    .dataframe tbody tr th {\n",
       "        vertical-align: top;\n",
       "    }\n",
       "\n",
       "    .dataframe thead th {\n",
       "        text-align: right;\n",
       "    }\n",
       "</style>\n",
       "<table border=\"1\" class=\"dataframe\">\n",
       "  <thead>\n",
       "    <tr style=\"text-align: right;\">\n",
       "      <th></th>\n",
       "      <th>CupperPoints</th>\n",
       "      <th>ID</th>\n",
       "      <th>Country</th>\n",
       "      <th>HarvestYear</th>\n",
       "      <th>Variety</th>\n",
       "      <th>Process</th>\n",
       "      <th>Aroma</th>\n",
       "      <th>Flavor</th>\n",
       "      <th>Aftertaste</th>\n",
       "      <th>Acidity</th>\n",
       "      <th>...</th>\n",
       "      <th>MeanAlt</th>\n",
       "      <th>Address</th>\n",
       "      <th>Contact</th>\n",
       "      <th>Elevation</th>\n",
       "      <th>FullElevation</th>\n",
       "      <th>Precipitation</th>\n",
       "      <th>Temperature</th>\n",
       "      <th>Continent</th>\n",
       "      <th>NSHem</th>\n",
       "      <th>EWHem</th>\n",
       "    </tr>\n",
       "  </thead>\n",
       "  <tbody>\n",
       "    <tr>\n",
       "      <th>0</th>\n",
       "      <td>10.00</td>\n",
       "      <td>263</td>\n",
       "      <td>Taiwan</td>\n",
       "      <td>2012</td>\n",
       "      <td>Unknown</td>\n",
       "      <td>Unknown</td>\n",
       "      <td>7.00</td>\n",
       "      <td>7.08</td>\n",
       "      <td>7.00</td>\n",
       "      <td>7.17</td>\n",
       "      <td>...</td>\n",
       "      <td>Unknown</td>\n",
       "      <td>10</td>\n",
       "      <td>10</td>\n",
       "      <td>1150.0</td>\n",
       "      <td>1150.0</td>\n",
       "      <td>2500.0</td>\n",
       "      <td>16.00</td>\n",
       "      <td>Asia</td>\n",
       "      <td>N</td>\n",
       "      <td>E</td>\n",
       "    </tr>\n",
       "    <tr>\n",
       "      <th>1</th>\n",
       "      <td>10.00</td>\n",
       "      <td>267</td>\n",
       "      <td>Taiwan</td>\n",
       "      <td>2012</td>\n",
       "      <td>Unknown</td>\n",
       "      <td>Unknown</td>\n",
       "      <td>7.25</td>\n",
       "      <td>7.25</td>\n",
       "      <td>7.00</td>\n",
       "      <td>7.08</td>\n",
       "      <td>...</td>\n",
       "      <td>200</td>\n",
       "      <td>10</td>\n",
       "      <td>10</td>\n",
       "      <td>1150.0</td>\n",
       "      <td>200.0</td>\n",
       "      <td>2500.0</td>\n",
       "      <td>16.00</td>\n",
       "      <td>Asia</td>\n",
       "      <td>N</td>\n",
       "      <td>E</td>\n",
       "    </tr>\n",
       "    <tr>\n",
       "      <th>2</th>\n",
       "      <td>10.00</td>\n",
       "      <td>277</td>\n",
       "      <td>Taiwan</td>\n",
       "      <td>2013</td>\n",
       "      <td>Unknown</td>\n",
       "      <td>Unknown</td>\n",
       "      <td>7.67</td>\n",
       "      <td>7.67</td>\n",
       "      <td>7.00</td>\n",
       "      <td>7.08</td>\n",
       "      <td>...</td>\n",
       "      <td>Unknown</td>\n",
       "      <td>10</td>\n",
       "      <td>10</td>\n",
       "      <td>1150.0</td>\n",
       "      <td>1150.0</td>\n",
       "      <td>2500.0</td>\n",
       "      <td>16.00</td>\n",
       "      <td>Asia</td>\n",
       "      <td>N</td>\n",
       "      <td>E</td>\n",
       "    </tr>\n",
       "    <tr>\n",
       "      <th>3</th>\n",
       "      <td>10.00</td>\n",
       "      <td>278</td>\n",
       "      <td>Taiwan</td>\n",
       "      <td>2012</td>\n",
       "      <td>Unknown</td>\n",
       "      <td>Unknown</td>\n",
       "      <td>7.58</td>\n",
       "      <td>7.58</td>\n",
       "      <td>7.17</td>\n",
       "      <td>7.17</td>\n",
       "      <td>...</td>\n",
       "      <td>Unknown</td>\n",
       "      <td>10</td>\n",
       "      <td>10</td>\n",
       "      <td>1150.0</td>\n",
       "      <td>1150.0</td>\n",
       "      <td>2500.0</td>\n",
       "      <td>16.00</td>\n",
       "      <td>Asia</td>\n",
       "      <td>N</td>\n",
       "      <td>E</td>\n",
       "    </tr>\n",
       "    <tr>\n",
       "      <th>4</th>\n",
       "      <td>9.25</td>\n",
       "      <td>1096</td>\n",
       "      <td>Guatemala</td>\n",
       "      <td>2010</td>\n",
       "      <td>Bourbon</td>\n",
       "      <td>Unknown</td>\n",
       "      <td>8.42</td>\n",
       "      <td>8.50</td>\n",
       "      <td>8.42</td>\n",
       "      <td>8.42</td>\n",
       "      <td>...</td>\n",
       "      <td>1700</td>\n",
       "      <td>2</td>\n",
       "      <td>2</td>\n",
       "      <td>759.0</td>\n",
       "      <td>1700.0</td>\n",
       "      <td>1996.0</td>\n",
       "      <td>23.45</td>\n",
       "      <td>North America</td>\n",
       "      <td>N</td>\n",
       "      <td>W</td>\n",
       "    </tr>\n",
       "  </tbody>\n",
       "</table>\n",
       "<p>5 rows × 30 columns</p>\n",
       "</div>"
      ],
      "text/plain": [
       "   CupperPoints    ID    Country  HarvestYear  Variety  Process  Aroma  \\\n",
       "0         10.00   263     Taiwan         2012  Unknown  Unknown   7.00   \n",
       "1         10.00   267     Taiwan         2012  Unknown  Unknown   7.25   \n",
       "2         10.00   277     Taiwan         2013  Unknown  Unknown   7.67   \n",
       "3         10.00   278     Taiwan         2012  Unknown  Unknown   7.58   \n",
       "4          9.25  1096  Guatemala         2010  Bourbon  Unknown   8.42   \n",
       "\n",
       "   Flavor  Aftertaste  Acidity  ...   MeanAlt  Address  Contact  Elevation  \\\n",
       "0    7.08        7.00     7.17  ...   Unknown       10       10     1150.0   \n",
       "1    7.25        7.00     7.08  ...       200       10       10     1150.0   \n",
       "2    7.67        7.00     7.08  ...   Unknown       10       10     1150.0   \n",
       "3    7.58        7.17     7.17  ...   Unknown       10       10     1150.0   \n",
       "4    8.50        8.42     8.42  ...      1700        2        2      759.0   \n",
       "\n",
       "   FullElevation  Precipitation  Temperature      Continent  NSHem EWHem  \n",
       "0         1150.0         2500.0        16.00           Asia      N     E  \n",
       "1          200.0         2500.0        16.00           Asia      N     E  \n",
       "2         1150.0         2500.0        16.00           Asia      N     E  \n",
       "3         1150.0         2500.0        16.00           Asia      N     E  \n",
       "4         1700.0         1996.0        23.45  North America      N     W  \n",
       "\n",
       "[5 rows x 30 columns]"
      ]
     },
     "execution_count": 2,
     "metadata": {},
     "output_type": "execute_result"
    }
   ],
   "source": [
    "#Import Data\n",
    "fp = \"./Downloads/coffeedata.csv\"\n",
    "data = pd.read_csv(fp)\n",
    "data.head()"
   ]
  },
  {
   "cell_type": "code",
   "execution_count": 35,
   "metadata": {},
   "outputs": [
    {
     "data": {
      "text/plain": [
       "['Aroma',\n",
       " 'Flavor',\n",
       " 'Aftertaste',\n",
       " 'Acidity',\n",
       " 'Body',\n",
       " 'Balance',\n",
       " 'Uniformity',\n",
       " 'Cleanliness',\n",
       " 'Sweetness',\n",
       " 'Moisture',\n",
       " 'C1Defect',\n",
       " 'C2Defect',\n",
       " 'Quakers',\n",
       " 'FullElevation',\n",
       " 'Precipitation',\n",
       " 'Temperature',\n",
       " 'Process_Natural / Dry',\n",
       " 'Process_Other',\n",
       " 'Process_Pulped natural / honey',\n",
       " 'Process_Semi-washed / Semi-pulped',\n",
       " 'Process_Unknown',\n",
       " 'Process_Washed / Wet',\n",
       " 'Color_Natural / Dry',\n",
       " 'Color_Other',\n",
       " 'Color_Pulped natural / honey',\n",
       " 'Color_Semi-washed / Semi-pulped',\n",
       " 'Color_Unknown',\n",
       " 'Color_Washed / Wet',\n",
       " 'Cont_Africa',\n",
       " 'Cont_Asia',\n",
       " 'Cont_Australia',\n",
       " 'Cont_North America',\n",
       " 'Cont_South America']"
      ]
     },
     "execution_count": 35,
     "metadata": {},
     "output_type": "execute_result"
    }
   ],
   "source": [
    "df = pd.DataFrame(data)\n",
    "\n",
    "df['Process']=pd.Categorical(df['Process'])\n",
    "dfProcessDummies = pd.get_dummies(df['Process'], prefix='Process')\n",
    "df = pd.concat([df,dfProcessDummies],axis=1)\n",
    "\n",
    "df['Color']=pd.Categorical(df['Color'])\n",
    "dfColorDummies = pd.get_dummies(df['Process'],prefix='Color')\n",
    "df = pd.concat([df,dfColorDummies],axis=1)\n",
    "\n",
    "df['Continent']=pd.Categorical(df['Continent'])\n",
    "dfContDummies = pd.get_dummies(df['Continent'],prefix='Cont')\n",
    "df = pd.concat([df,dfContDummies],axis=1)\n",
    "\n",
    "df.drop(['Country','HarvestYear','Variety','Process','Color','Continent','NSHem','EWHem',\n",
    "         'Contact','Address','Elevation','ID','CupperPoints','MeanAlt'],\n",
    "        axis=1,inplace=True)\n",
    "\n",
    "cup = data['CupperPoints']\n",
    "list(df)"
   ]
  },
  {
   "cell_type": "code",
   "execution_count": 29,
   "metadata": {},
   "outputs": [],
   "source": [
    "X_train, X_test, y_train, y_test = train_test_split(df, cup, train_size=0.85, random_state=0)\n",
    "scaler = StandardScaler().fit(X_train)\n",
    "X_train_scaled = pd.DataFrame(scaler.transform(X_train), index=X_train.index.values, columns=X_train.columns.values)\n",
    "X_test_scaled = pd.DataFrame(scaler.transform(X_test), index=X_test.index.values, columns=X_test.columns.values)"
   ]
  },
  {
   "cell_type": "code",
   "execution_count": 30,
   "metadata": {},
   "outputs": [],
   "source": [
    "#Unscaled\n",
    "results_test = []\n",
    "results_train = []\n",
    "for i in range(1,70,1):\n",
    "    rf = RandomForestRegressor(n_estimators=i, random_state=0)\n",
    "    rf.fit(X_train.fillna(X_train.mean()), y_train)\n",
    "    predicted_test = rf.predict(X_test.fillna(X_test.mean()))\n",
    "    predicted_train = rf.predict(X_train.fillna(X_train.mean()))\n",
    "    test_score = r2_score(y_test, predicted_test)\n",
    "    train_score = r2_score(y_train, predicted_train)\n",
    "    results_test.append(float(test_score))\n",
    "    results_train.append(float(train_score))"
   ]
  },
  {
   "cell_type": "code",
   "execution_count": 72,
   "metadata": {},
   "outputs": [
    {
     "name": "stdout",
     "output_type": "stream",
     "text": [
      "Max Test = 95.15% R2\n",
      "Max Train = 73.73% R2\n"
     ]
    },
    {
     "data": {
      "image/png": "[encoded data removed]",
      "text/plain": [
       "<Figure size 432x288 with 1 Axes>"
      ]
     },
     "metadata": {
      "needs_background": "light"
     },
     "output_type": "display_data"
    }
   ],
   "source": [
    "iteratedResults = pd.DataFrame({'Test':results_test, 'Train':results_train})\n",
    "iteratedResults.head()\n",
    "sns.lineplot(data=iteratedResults).set_title('Accuracy from Increasing Regressors')\n",
    "print(\"Max Test = \"+str(round(max(results_train)*100,2))+\"% R2\")\n",
    "print(\"Max Train = \"+str(round(max(results_test)*100,2))+\"% R2\")"
   ]
  },
  {
   "cell_type": "code",
   "execution_count": 73,
   "metadata": {},
   "outputs": [],
   "source": [
    "#Scaled\n",
    "results_test = []\n",
    "results_train = []\n",
    "for i in range(1,70,1):\n",
    "    rf = RandomForestRegressor(n_estimators=i, random_state=0)\n",
    "    rf.fit(X_train_scaled.fillna(X_train.mean()), y_train)\n",
    "    predicted_test = rf.predict(X_test_scaled.fillna(X_test.mean()))\n",
    "    predicted_train = rf.predict(X_train_scaled.fillna(X_train.mean()))\n",
    "    test_score = r2_score(y_test, predicted_test)\n",
    "    train_score = r2_score(y_train, predicted_train)\n",
    "    results_test.append(float(test_score))\n",
    "    results_train.append(float(train_score))"
   ]
  },
  {
   "cell_type": "code",
   "execution_count": 74,
   "metadata": {
    "scrolled": false
   },
   "outputs": [
    {
     "name": "stdout",
     "output_type": "stream",
     "text": [
      "Max Test = 95.08% R2\n",
      "Max Train = 73.41% R2\n"
     ]
    },
    {
     "data": {
      "image/png": "[encoded data removed]",
      "text/plain": [
       "<Figure size 432x288 with 1 Axes>"
      ]
     },
     "metadata": {
      "needs_background": "light"
     },
     "output_type": "display_data"
    }
   ],
   "source": [
    "iteratedResults = pd.DataFrame({'Test':results_test, 'Train':results_train})\n",
    "iteratedResults.head()\n",
    "sns.lineplot(data=iteratedResults).set_title('Accuracy from Increasing Regressors')\n",
    "print(\"Max Test = \"+str(round(max(results_train)*100,2))+\"% R2\")\n",
    "print(\"Max Train = \"+str(round(max(results_test)*100,2))+\"% R2\")"
   ]
  },
  {
   "cell_type": "code",
   "execution_count": 75,
   "metadata": {},
   "outputs": [
    {
     "data": {
      "text/plain": [
       "RandomForestRegressor(bootstrap=True, criterion='mse', max_depth=None,\n",
       "           max_features='auto', max_leaf_nodes=None,\n",
       "           min_impurity_decrease=0.0, min_impurity_split=None,\n",
       "           min_samples_leaf=1, min_samples_split=2,\n",
       "           min_weight_fraction_leaf=0.0, n_estimators=3, n_jobs=None,\n",
       "           oob_score=False, random_state=0, verbose=0, warm_start=False)"
      ]
     },
     "execution_count": 75,
     "metadata": {},
     "output_type": "execute_result"
    }
   ],
   "source": [
    "#Best model\n",
    "rf = RandomForestRegressor(n_estimators=3, random_state=0)\n",
    "rf.fit(X_train.fillna(X_train.mean()), y_train)\n",
    "predicted_train = rf.predict(X_train.fillna(X_train.mean()))\n",
    "predicted_test = rf.predict(X_test.fillna(X_test.mean()))\n",
    "test_score = r2_score(y_test, predicted_test)\n",
    "print(str(round(test_score*100,2))+\"% R2\")"
   ]
  },
  {
   "cell_type": "code",
   "execution_count": 65,
   "metadata": {
    "scrolled": true
   },
   "outputs": [
    {
     "data": {
      "text/plain": [
       "<matplotlib.axes._subplots.AxesSubplot at 0x122de69b0>"
      ]
     },
     "execution_count": 65,
     "metadata": {},
     "output_type": "execute_result"
    },
    {
     "data": {
      "image/png": "[encoded data removed]",
      "text/plain": [
       "<Figure size 432x288 with 1 Axes>"
      ]
     },
     "metadata": {
      "needs_background": "light"
     },
     "output_type": "display_data"
    }
   ],
   "source": [
    "sns.regplot(predicted_test,y_test)"
   ]
  },
  {
   "cell_type": "code",
   "execution_count": 66,
   "metadata": {},
   "outputs": [
    {
     "data": {
      "text/plain": [
       "<matplotlib.axes._subplots.AxesSubplot at 0x122e5a0b8>"
      ]
     },
     "execution_count": 66,
     "metadata": {},
     "output_type": "execute_result"
    },
    {
     "data": {
      "image/png": "[encoded data removed]",
      "text/plain": [
       "<Figure size 432x288 with 1 Axes>"
      ]
     },
     "metadata": {
      "needs_background": "light"
     },
     "output_type": "display_data"
    }
   ],
   "source": [
    "sns.regplot(predicted_train, y_train)"
   ]
  },
  {
   "cell_type": "code",
   "execution_count": 60,
   "metadata": {},
   "outputs": [],
   "source": [
    "estimator = rf.estimators_[2]\n",
    "export_graphviz(estimator, out_file = 'tree.dot', feature_names = list(X_train), rounded = True, precision = 1)\n",
    "# Use dot file to create a graph\n",
    "(graph, ) = pydot.graph_from_dot_file('tree.dot')\n",
    "# Write graph to a png file\n",
    "graph.write_png('tree.png')"
   ]
  },
  {
   "cell_type": "code",
   "execution_count": null,
   "metadata": {},
   "outputs": [],
   "source": []
  }
 ],
 "metadata": {
  "kernelspec": {
   "display_name": "Python 3",
   "language": "python",
   "name": "python3"
  },
  "language_info": {
   "codemirror_mode": {
    "name": "ipython",
    "version": 3
   },
   "file_extension": ".py",
   "mimetype": "text/x-python",
   "name": "python",
   "nbconvert_exporter": "python",
   "pygments_lexer": "ipython3",
   "version": "3.7.1"
  }
 },
 "nbformat": 4,
 "nbformat_minor": 2
}
